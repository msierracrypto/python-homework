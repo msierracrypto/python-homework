{
 "cells": [
  {
   "cell_type": "code",
   "execution_count": 2,
   "id": "175353ce-258e-42de-901d-fc39da1e8902",
   "metadata": {},
   "outputs": [],
   "source": [
    "import pandas as pd\n",
    "from pprint import pprint"
   ]
  },
  {
   "cell_type": "code",
   "execution_count": 9,
   "id": "b298c7f4-d66b-42ca-84cf-de71ec13828b",
   "metadata": {},
   "outputs": [
    {
     "name": "stdout",
     "output_type": "stream",
     "text": [
      "total of months: 86\n",
      "total amount loop: 38382578\n",
      "average change sum: -2315.12\n"
     ]
    }
   ],
   "source": [
    "df = pd.read_csv('budget_data.csv')\n",
    "\n",
    "budget_list = df.values.tolist()\n",
    "\n",
    "#pprint(budget_list)\n",
    "\n",
    "#get total months in a list\n",
    "total_months = len(budget_list)\n",
    "\n",
    "print(f\"total of months: {total_months}\")\n",
    "\n",
    "#getting total sum via Pandas\n",
    "total_amount_pandas = df.iloc[:,1].sum()\n",
    "print(f\"total amount pandas: {total_amount_pandas}\")\n",
    "\n",
    "#Get the Total Amount via For loop\n",
    "total_amount = budget_list[0][1]\n",
    "average_change_sum = 0.00\n",
    "previous_month = budget_list[0][1]\n",
    "previous_month_text = budget_list[0][0]\n",
    "greatest_increase_amount = previous_month\n",
    "greates_increase_amount_text = previous_month_text\n",
    "greatest_loss_amount = 0\n",
    "\n",
    "for month in budget_list[1:]:\n",
    "    curr_month_pl = month[1]\n",
    "    curr_month_text = month[0]\n",
    "    \n",
    "    total_amount += curr_month_pl\n",
    "    \n",
    "    diff_beween_months = curr_month_pl - previous_month\n",
    "    average_change_sum += diff_beween_months\n",
    "    \n",
    "    previous_month = curr_month_pl\n",
    "    previous_month_text = curr_month_text\n",
    "    \n",
    "print(f\"total amount loop: {total_amount}\")\n",
    "print(f\"average change sum: {round(average_change_sum / 85, 2)}\")\n",
    "\n"
   ]
  },
  {
   "cell_type": "code",
   "execution_count": null,
   "id": "7f968d7a-c801-492a-ba6e-cbae27d8d2ff",
   "metadata": {},
   "outputs": [],
   "source": []
  },
  {
   "cell_type": "code",
   "execution_count": null,
   "id": "86ef3a90-cc33-40fe-bc79-9b34cdd0b072",
   "metadata": {},
   "outputs": [],
   "source": []
  }
 ],
 "metadata": {
  "kernelspec": {
   "display_name": "Python 3",
   "language": "python",
   "name": "python3"
  },
  "language_info": {
   "codemirror_mode": {
    "name": "ipython",
    "version": 3
   },
   "file_extension": ".py",
   "mimetype": "text/x-python",
   "name": "python",
   "nbconvert_exporter": "python",
   "pygments_lexer": "ipython3",
   "version": "3.8.5"
  }
 },
 "nbformat": 4,
 "nbformat_minor": 5
}
