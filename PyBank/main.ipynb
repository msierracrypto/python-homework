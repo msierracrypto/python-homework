{
 "cells": [
  {
   "cell_type": "code",
   "execution_count": 5,
   "id": "b298c7f4-d66b-42ca-84cf-de71ec13828b",
   "metadata": {},
   "outputs": [
    {
     "name": "stdout",
     "output_type": "stream",
     "text": [
      "Financial Analysis\n",
      "----------------------------\n",
      "Total Months: 86\n",
      "Total: $38382578\n",
      "Average  Change: $-2315.12\n",
      "Greatest Increase in Profits: Feb-2012 ($1926159)\n",
      "Greatest Decrease in Profits: Sep-2013 ($-2196167)\n"
     ]
    }
   ],
   "source": [
    "import pandas as pd\n",
    "\n",
    "df = pd.read_csv('budget_data.csv')\n",
    "\n",
    "budget_list = df.values.tolist()\n",
    "\n",
    "#get total months in a list\n",
    "total_months = len(budget_list)\n",
    "\n",
    "#declaring variables\n",
    "total_amount = budget_list[0][1]\n",
    "average_change_sum = 0.00\n",
    "previous_month = budget_list[0][1]\n",
    "previous_month_text = budget_list[0][0]\n",
    "greatest_increase_amount = previous_month\n",
    "greatest_increase_amount_month = previous_month_text\n",
    "greatest_loss_amount = 0\n",
    "greatest_loss_amount_month = previous_month_text\n",
    "\n",
    "for month in budget_list[1:]:\n",
    "    curr_month_pl = month[1]\n",
    "    curr_month_text = month[0]\n",
    "    \n",
    "    #calculating the total\n",
    "    total_amount += curr_month_pl\n",
    "    \n",
    "    #getting the difference between months\n",
    "    diff_beween_months = curr_month_pl - previous_month\n",
    "    average_change_sum += diff_beween_months\n",
    "    \n",
    "    #checking if the current difference is greater than the existing greatest increase\n",
    "    if diff_beween_months > greatest_increase_amount:\n",
    "        greatest_increase_amount = diff_beween_months\n",
    "        greatest_increase_amount_month = curr_month_text\n",
    "    \n",
    "    #checking if the current difference is less than the existing greatest loss\n",
    "    if diff_beween_months < greatest_loss_amount:\n",
    "        greatest_loss_amount = diff_beween_months\n",
    "        greatest_loss_amount_month = curr_month_text\n",
    "    \n",
    "    previous_month = curr_month_pl\n",
    "    previous_month_text = curr_month_text\n",
    "\n",
    "#printing report with results\n",
    "print(\"Financial Analysis\")\n",
    "print(\"----------------------------\")\n",
    "print(f\"Total Months: {total_months}\")\n",
    "print(f\"Total: ${total_amount}\")\n",
    "print(f\"Average  Change: ${round(average_change_sum / (total_months - 1), 2)}\")\n",
    "print(f\"Greatest Increase in Profits: {greatest_increase_amount_month} (${greatest_increase_amount})\")\n",
    "print(f\"Greatest Decrease in Profits: {greatest_loss_amount_month} (${greatest_loss_amount})\")\n",
    "\n",
    "output_path = 'output.txt'\n",
    "\n",
    "with open(output_path, 'w') as file:      \n",
    "    file.write(f\"Financial Analysis.\\n\")\n",
    "    file.write(\"----------------------------\\n\")\n",
    "    file.write(f\"Total Months: {total_months}\\n\")\n",
    "    file.write(f\"Total: ${total_amount}\\n\")\n",
    "    file.write(f\"Average  Change: ${round(average_change_sum / (total_months - 1), 2)}\\n\")\n",
    "    file.write(f\"Greatest Increase in Profits: {greatest_increase_amount_month} (${greatest_increase_amount})\\n\")\n",
    "    file.write(f\"Greatest Decrease in Profits: {greatest_loss_amount_month} (${greatest_loss_amount})\")\n"
   ]
  },
  {
   "cell_type": "code",
   "execution_count": null,
   "id": "7f968d7a-c801-492a-ba6e-cbae27d8d2ff",
   "metadata": {},
   "outputs": [],
   "source": []
  },
  {
   "cell_type": "code",
   "execution_count": null,
   "id": "86ef3a90-cc33-40fe-bc79-9b34cdd0b072",
   "metadata": {},
   "outputs": [],
   "source": []
  }
 ],
 "metadata": {
  "kernelspec": {
   "display_name": "Python 3",
   "language": "python",
   "name": "python3"
  },
  "language_info": {
   "codemirror_mode": {
    "name": "ipython",
    "version": 3
   },
   "file_extension": ".py",
   "mimetype": "text/x-python",
   "name": "python",
   "nbconvert_exporter": "python",
   "pygments_lexer": "ipython3",
   "version": "3.8.5"
  }
 },
 "nbformat": 4,
 "nbformat_minor": 5
}
